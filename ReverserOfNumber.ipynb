{
 "cells": [
  {
   "cell_type": "code",
   "execution_count": 7,
   "id": "a7c1a59d-e333-4f1d-a809-50445c60c8e3",
   "metadata": {},
   "outputs": [
    {
     "name": "stdin",
     "output_type": "stream",
     "text": [
      "Enter a number:  -1234\n"
     ]
    },
    {
     "name": "stdout",
     "output_type": "stream",
     "text": [
      "-4321\n"
     ]
    }
   ],
   "source": [
    "class REVERSE:\n",
    "    def __init__(self,num):\n",
    "        self.num = num\n",
    "    def RevNum(self):\n",
    "        originalNum = self.num\n",
    "        if self.num<0:\n",
    "            self.num = -(self.num)\n",
    "        Rev = 0\n",
    "        while self.num > 0:\n",
    "            rem = self.num%10\n",
    "            Rev = Rev*10 + rem\n",
    "            self.num = self.num//10\n",
    "            \n",
    "        if originalNum<0:\n",
    "            Rev = -(Rev)\n",
    "        return Rev\n",
    "\n",
    "if __name__ == \"__main__\":\n",
    "    user_input = int(input(\"Enter a number: \"))\n",
    "    object = REVERSE(user_input)\n",
    "    print(object.RevNum())"
   ]
  },
  {
   "cell_type": "code",
   "execution_count": null,
   "id": "c7263253-e6f5-456d-b9ce-14ec639ee873",
   "metadata": {},
   "outputs": [],
   "source": []
  }
 ],
 "metadata": {
  "kernelspec": {
   "display_name": "Python 3 (ipykernel)",
   "language": "python",
   "name": "python3"
  },
  "language_info": {
   "codemirror_mode": {
    "name": "ipython",
    "version": 3
   },
   "file_extension": ".py",
   "mimetype": "text/x-python",
   "name": "python",
   "nbconvert_exporter": "python",
   "pygments_lexer": "ipython3",
   "version": "3.12.4"
  }
 },
 "nbformat": 4,
 "nbformat_minor": 5
}
