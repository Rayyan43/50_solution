{
 "cells": [
  {
   "cell_type": "raw",
   "id": "daffc223-c85d-45db-a400-b22d884c31ac",
   "metadata": {},
   "source": [
    "1. Find the Largest number in the List\n",
    "\n",
    "\n",
    "list1 = [100000,1,3,4,5,6,7,8,9,3,4,5,6,7,8,9,33,6,78,9,56,36,9999]\n"
   ]
  },
  {
   "cell_type": "code",
   "execution_count": 3,
   "id": "a8f4547b-c17c-435f-8e7e-846b23764d71",
   "metadata": {},
   "outputs": [
    {
     "name": "stdout",
     "output_type": "stream",
     "text": [
      "100000\n"
     ]
    }
   ],
   "source": [
    "list1 = [100000,1,3,4,5,6,7,8,9,3,4,5,6,7,8,9,33,6,78,9,56,36,9999]\n",
    "big = list1[0]\n",
    "for i in list1:\n",
    "    if big < i:\n",
    "        big = i\n",
    "print(big)"
   ]
  },
  {
   "cell_type": "raw",
   "id": "eff4a549-6079-4eea-a0d8-8ca2ce6f52e9",
   "metadata": {},
   "source": [
    "2. Filter Even Numbers from a List\n",
    "\n",
    "list1 = [1,3,4,5,6,7,8,9,3,4,5,6,7,8,9]"
   ]
  },
  {
   "cell_type": "code",
   "execution_count": 7,
   "id": "401b47dc-9e9a-4476-b89e-1849ec3abc26",
   "metadata": {},
   "outputs": [
    {
     "name": "stdout",
     "output_type": "stream",
     "text": [
      "[4, 6, 8, 4, 6, 8]\n"
     ]
    }
   ],
   "source": [
    "list2 = [1,3,4,5,6,7,8,9,3,4,5,6,7,8,9]\n",
    "EvenList = []\n",
    "for i in range(len(list2)):\n",
    "    if list2[i] %2 == 0:\n",
    "        EvenList.append(list2[i])\n",
    "\n",
    "print(EvenList)"
   ]
  },
  {
   "cell_type": "raw",
   "id": "def38621-f0c0-47f1-be88-8126537f99aa",
   "metadata": {},
   "source": [
    "3. Find out all string values from a List\n",
    "\n",
    "list1 = [\"python\",2.4,7.8,67,[1,2,3],\"Mysql\",\"this\"]"
   ]
  },
  {
   "cell_type": "code",
   "execution_count": 13,
   "id": "1b9ac68a-5ec9-4cb6-9948-6094e9a2d286",
   "metadata": {},
   "outputs": [
    {
     "name": "stdout",
     "output_type": "stream",
     "text": [
      "['python', 'Mysql', 'this']\n"
     ]
    }
   ],
   "source": [
    "list3 = [\"python\",2.4,7.8,67,[1,2,3],\"Mysql\",\"this\"]\n",
    "StringList = []\n",
    "for i in list3:\n",
    "    if type(i) == str:\n",
    "        StringList.append(i)\n",
    "\n",
    "print(StringList)"
   ]
  },
  {
   "cell_type": "raw",
   "id": "268da019-5422-41f1-8cce-e9857d2cb3fe",
   "metadata": {},
   "source": [
    "4. Filter Unique Elements from a list\n",
    "\n",
    "list1 = [1,3,4,5,6,7,8,9,3,4,5,6,7,8,9]"
   ]
  },
  {
   "cell_type": "code",
   "execution_count": 31,
   "id": "50debbc1-bd36-4ad1-a98f-f12d0f4a31ad",
   "metadata": {},
   "outputs": [
    {
     "name": "stdout",
     "output_type": "stream",
     "text": [
      "{1, 3, 4, 5, 6, 7, 8, 9}\n",
      "[1, 3, 4, 5, 6, 7, 8, 9]\n"
     ]
    }
   ],
   "source": [
    "list4 = [1,3,4,5,6,7,8,9,3,4,5,6,7,8,9]\n",
    "var = set(list4)\n",
    "print(var)\n",
    "\n",
    "uniqueList = []\n",
    "for i in list4:\n",
    "    if i not in uniqueList:\n",
    "        uniqueList.append(i)\n",
    "print(uniqueList)"
   ]
  },
  {
   "cell_type": "raw",
   "id": "6685cee9-06f6-4164-86ad-4427ff5be3bd",
   "metadata": {},
   "source": [
    "5. Flatten a Nested List\n",
    "\n",
    "list5 = [[9, 2, 4], [4, 44,989], [6, 7, 4567,12]]"
   ]
  },
  {
   "cell_type": "code",
   "execution_count": 41,
   "id": "1e45b24c-0d7a-4297-b160-4ea3a0af168b",
   "metadata": {},
   "outputs": [
    {
     "name": "stdout",
     "output_type": "stream",
     "text": [
      "[9, 2, 4, 4, 44, 989, 6, 7, 4567, 12]\n"
     ]
    }
   ],
   "source": [
    "list5 = [[9, 2, 4], [4, 44,989], [6, 7, 4567,12]]\n",
    "flat_list = []\n",
    "for sublist in list5:\n",
    "    for item in sublist:\n",
    "        flat_list.append(item)\n",
    "\n",
    "print(flat_list)"
   ]
  },
  {
   "cell_type": "code",
   "execution_count": null,
   "id": "69560207-3969-4cfa-8bfb-70dd18d06b15",
   "metadata": {},
   "outputs": [],
   "source": []
  }
 ],
 "metadata": {
  "kernelspec": {
   "display_name": "Python 3 (ipykernel)",
   "language": "python",
   "name": "python3"
  },
  "language_info": {
   "codemirror_mode": {
    "name": "ipython",
    "version": 3
   },
   "file_extension": ".py",
   "mimetype": "text/x-python",
   "name": "python",
   "nbconvert_exporter": "python",
   "pygments_lexer": "ipython3",
   "version": "3.12.4"
  }
 },
 "nbformat": 4,
 "nbformat_minor": 5
}
