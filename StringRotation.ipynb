{
 "cells": [
  {
   "cell_type": "code",
   "execution_count": 15,
   "id": "7ba70955-b9b0-488d-9128-5834e7b206bf",
   "metadata": {},
   "outputs": [
    {
     "name": "stdout",
     "output_type": "stream",
     "text": [
      "It is rotation of abcd\n"
     ]
    }
   ],
   "source": [
    "class ROTATE:\n",
    "    def __init__ (self,str1,str2):\n",
    "        self.str1 = str1\n",
    "        self.str2 = str2\n",
    "        \n",
    "    # @staticmethod\n",
    "    def string_rotate(self):\n",
    "        if len(self.str1) != len(self.str2):\n",
    "            return False\n",
    "        if self.str2 in self.str1+self.str1:\n",
    "            return True\n",
    "        else:\n",
    "            False\n",
    "\n",
    "if __name__ == \"__main__\":\n",
    "    string1 = \"cdab\"\n",
    "    string2 = \"abcd\"\n",
    "    obj = ROTATE(string1,string2)\n",
    "    \n",
    "    if obj.string_rotate() :\n",
    "        print(f\"It is rotation of {string2}\")\n",
    "    else:\n",
    "        print(f\"It is not rotation of {string2}\")"
   ]
  },
  {
   "cell_type": "code",
   "execution_count": null,
   "id": "1f6c58ac-c592-4abb-aa5f-4502c3e47a8b",
   "metadata": {},
   "outputs": [],
   "source": []
  }
 ],
 "metadata": {
  "kernelspec": {
   "display_name": "Python 3 (ipykernel)",
   "language": "python",
   "name": "python3"
  },
  "language_info": {
   "codemirror_mode": {
    "name": "ipython",
    "version": 3
   },
   "file_extension": ".py",
   "mimetype": "text/x-python",
   "name": "python",
   "nbconvert_exporter": "python",
   "pygments_lexer": "ipython3",
   "version": "3.12.4"
  }
 },
 "nbformat": 4,
 "nbformat_minor": 5
}
