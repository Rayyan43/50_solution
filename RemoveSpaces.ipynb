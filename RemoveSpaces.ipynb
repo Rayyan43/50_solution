{
 "cells": [
  {
   "cell_type": "code",
   "execution_count": 7,
   "id": "3c272d17-756f-4a9a-a613-fd63dee3d819",
   "metadata": {},
   "outputs": [
    {
     "name": "stdin",
     "output_type": "stream",
     "text": [
      "Enter a string:  Python is fun \n"
     ]
    },
    {
     "name": "stdout",
     "output_type": "stream",
     "text": [
      "Pythonisfun\n"
     ]
    }
   ],
   "source": [
    "class RemoveSpaces:\n",
    "    def __init__(self,string):\n",
    "        self.string = string\n",
    "    def Remove_spaces(self):\n",
    "        txt = self.string\n",
    "        txt = txt.replace(\" \",\"\")\n",
    "        txt = txt.replace(\"\\n\",\"\")\n",
    "        txt = txt.replace(\"\\t\", \"\")\n",
    "        return txt\n",
    "\n",
    "if __name__ == \"__main__\":\n",
    "    user_string = input(\"Enter a string: \")\n",
    "    obj = RemoveSpaces(user_string)\n",
    "    res = obj.Remove_spaces()\n",
    "    print(res)"
   ]
  },
  {
   "cell_type": "code",
   "execution_count": null,
   "id": "bddf35eb-a0d1-49dd-b684-0c1b273bdc81",
   "metadata": {},
   "outputs": [],
   "source": []
  }
 ],
 "metadata": {
  "kernelspec": {
   "display_name": "Python 3 (ipykernel)",
   "language": "python",
   "name": "python3"
  },
  "language_info": {
   "codemirror_mode": {
    "name": "ipython",
    "version": 3
   },
   "file_extension": ".py",
   "mimetype": "text/x-python",
   "name": "python",
   "nbconvert_exporter": "python",
   "pygments_lexer": "ipython3",
   "version": "3.12.4"
  }
 },
 "nbformat": 4,
 "nbformat_minor": 5
}
