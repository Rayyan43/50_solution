{
 "cells": [
  {
   "cell_type": "code",
   "execution_count": 17,
   "id": "3c806fd9-007f-4226-988f-5cfa2c497d3c",
   "metadata": {},
   "outputs": [
    {
     "name": "stdin",
     "output_type": "stream",
     "text": [
      "Enter a positive integer:  6\n"
     ]
    },
    {
     "name": "stdout",
     "output_type": "stream",
     "text": [
      "[0, 1, 1, 2, 3, 5]\n"
     ]
    }
   ],
   "source": [
    "def Fibonacci(num):\n",
    "    list1 = []\n",
    "    if num == 0: return [0]\n",
    "    if num == 1: return [0,1]\n",
    "    num1 = 0\n",
    "    num2 = 1\n",
    "    list1.append(num1)\n",
    "    list1.append(num2)\n",
    "    for i in range(2,num):\n",
    "        num3 = num1 + num2\n",
    "        num1 = num2\n",
    "        num2 = num3\n",
    "        \n",
    "        list1.append(num3)\n",
    "    return list1\n",
    "        \n",
    "              \n",
    "user_input = int(input(\"Enter a positive integer: \"))\n",
    "res = Fibonacci(user_input)\n",
    "print(res)"
   ]
  },
  {
   "cell_type": "code",
   "execution_count": null,
   "id": "0aff3f2a-825a-4126-9acf-809a33130111",
   "metadata": {},
   "outputs": [],
   "source": []
  }
 ],
 "metadata": {
  "kernelspec": {
   "display_name": "Python 3 (ipykernel)",
   "language": "python",
   "name": "python3"
  },
  "language_info": {
   "codemirror_mode": {
    "name": "ipython",
    "version": 3
   },
   "file_extension": ".py",
   "mimetype": "text/x-python",
   "name": "python",
   "nbconvert_exporter": "python",
   "pygments_lexer": "ipython3",
   "version": "3.12.4"
  }
 },
 "nbformat": 4,
 "nbformat_minor": 5
}
