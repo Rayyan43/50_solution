{
 "cells": [
  {
   "cell_type": "code",
   "execution_count": 23,
   "id": "4a223640-9aab-4be5-81f6-e954acfbb455",
   "metadata": {},
   "outputs": [
    {
     "name": "stdout",
     "output_type": "stream",
     "text": [
      "Pushed item in stack is 3\n",
      "[3]\n",
      "Pushed item in stack is 11\n",
      "Pushed item in stack is 421\n",
      "Pushed item in stack is 3\n",
      "[3, 11, 421, 3]\n"
     ]
    }
   ],
   "source": [
    "class stack:\n",
    "    def __init__(self):\n",
    "        self.stack = []\n",
    "\n",
    "    def is_empty(self):\n",
    "        if len(self.stack) == 0:\n",
    "            return True\n",
    "        else:\n",
    "            return False\n",
    "    \n",
    "    def push(self,item):\n",
    "        self.stack.append(item)\n",
    "        print(f\"Pushed item in stack is {item}\")\n",
    "\n",
    "    def pop(self):\n",
    "        if not self.is_empty():\n",
    "            return self.stack.pop()\n",
    "        else:\n",
    "            print(\"Stack is empty\")\n",
    "\n",
    "    def peek(self):\n",
    "        if not self.is_empty():\n",
    "            return self.stack[-1]\n",
    "        else:\n",
    "            print(\"Stack is Empty\")\n",
    "\n",
    "    def display(self):\n",
    "        print(self.stack)\n",
    "\n",
    "\n",
    "if __name__ == \"__main__\":\n",
    "    stck = stack()\n",
    "    stck.push(3)\n",
    "    stck.display()\n",
    "    stck.push(11)\n",
    "    stck.push(421)\n",
    "    stck.push(3)\n",
    "    stck.peek()\n",
    "    stck.display()"
   ]
  },
  {
   "cell_type": "code",
   "execution_count": null,
   "id": "9c17d73e-a6f7-42a6-a0f2-b5f14b651db1",
   "metadata": {},
   "outputs": [],
   "source": []
  }
 ],
 "metadata": {
  "kernelspec": {
   "display_name": "Python 3 (ipykernel)",
   "language": "python",
   "name": "python3"
  },
  "language_info": {
   "codemirror_mode": {
    "name": "ipython",
    "version": 3
   },
   "file_extension": ".py",
   "mimetype": "text/x-python",
   "name": "python",
   "nbconvert_exporter": "python",
   "pygments_lexer": "ipython3",
   "version": "3.12.4"
  }
 },
 "nbformat": 4,
 "nbformat_minor": 5
}
