{
 "cells": [
  {
   "cell_type": "code",
   "execution_count": 21,
   "id": "af5c5761-620b-4bb9-950a-265789844757",
   "metadata": {},
   "outputs": [
    {
     "name": "stdout",
     "output_type": "stream",
     "text": [
      "3\n"
     ]
    }
   ],
   "source": [
    "List1= [1,2,3,4,5,6,7,8,9,10]\n",
    "target = 4\n",
    "\n",
    "def BST(right,left):\n",
    "    if len(List1) == 0:\n",
    "        return \"List is empty\"\n",
    "\n",
    "    mid =left + (right - left)//2\n",
    "    \n",
    "    if target == List1[mid]:\n",
    "        return mid\n",
    "    elif target > List1[mid]:\n",
    "        return BST(right,mid+1)\n",
    "    elif target < List1[mid]:\n",
    "        return BST(mid -1,left)\n",
    "    else:\n",
    "        return -1\n",
    "\n",
    "\n",
    "right = len(List1)-1\n",
    "left = 0\n",
    "res = BST(right, left)\n",
    "print(res)"
   ]
  },
  {
   "cell_type": "code",
   "execution_count": null,
   "id": "544fee96-3e7e-44a7-b383-3b73df7b26ad",
   "metadata": {},
   "outputs": [],
   "source": []
  }
 ],
 "metadata": {
  "kernelspec": {
   "display_name": "Python 3 (ipykernel)",
   "language": "python",
   "name": "python3"
  },
  "language_info": {
   "codemirror_mode": {
    "name": "ipython",
    "version": 3
   },
   "file_extension": ".py",
   "mimetype": "text/x-python",
   "name": "python",
   "nbconvert_exporter": "python",
   "pygments_lexer": "ipython3",
   "version": "3.12.4"
  }
 },
 "nbformat": 4,
 "nbformat_minor": 5
}
