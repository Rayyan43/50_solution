{
 "cells": [
  {
   "cell_type": "code",
   "execution_count": 3,
   "id": "83ed62a8-41e1-4ba5-b0e4-5a5293081880",
   "metadata": {},
   "outputs": [
    {
     "name": "stdout",
     "output_type": "stream",
     "text": [
      "4\n"
     ]
    }
   ],
   "source": [
    "class FindMissingNumber:\n",
    "    def __init__(self,list1):\n",
    "        self.list1 = list1\n",
    "    def FindNum(self):\n",
    "        for i in range(len(self.list1)):\n",
    "            if self.list1[i] +1 != self.list1[i+1]:\n",
    "                return self.list1[i]+1\n",
    "\n",
    "if __name__==\"__main__\":\n",
    "    list = [1, 2, 3, 5, 6]\n",
    "    list2 = [10, 11, 12, 14, 15]\n",
    "    obj = FindMissingNumber(list)\n",
    "    res = obj.FindNum()\n",
    "    obj2 = FindMissingNumber(list2)\n",
    "    res = obj2.FindNum()\n",
    "    print(res)"
   ]
  },
  {
   "cell_type": "code",
   "execution_count": null,
   "id": "d78083a3-6bd8-46b1-ad54-65357c6086fa",
   "metadata": {},
   "outputs": [],
   "source": []
  }
 ],
 "metadata": {
  "kernelspec": {
   "display_name": "Python 3 (ipykernel)",
   "language": "python",
   "name": "python3"
  },
  "language_info": {
   "codemirror_mode": {
    "name": "ipython",
    "version": 3
   },
   "file_extension": ".py",
   "mimetype": "text/x-python",
   "name": "python",
   "nbconvert_exporter": "python",
   "pygments_lexer": "ipython3",
   "version": "3.12.4"
  }
 },
 "nbformat": 4,
 "nbformat_minor": 5
}
