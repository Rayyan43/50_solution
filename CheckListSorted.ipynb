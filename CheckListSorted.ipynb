{
 "cells": [
  {
   "cell_type": "code",
   "execution_count": 13,
   "id": "65ff76ed-c3bc-4436-8bb5-1c724a09f3c7",
   "metadata": {},
   "outputs": [
    {
     "name": "stdout",
     "output_type": "stream",
     "text": [
      "False\n",
      "True\n"
     ]
    }
   ],
   "source": [
    "class Solution:\n",
    "    def __init__(self,list):\n",
    "        self.list = list\n",
    "    def isSorted(self):\n",
    "        for i in range(len(self.list)-1):\n",
    "            if self.list[i]>self.list[i+1]:\n",
    "                return False\n",
    "        return True\n",
    "\n",
    "if __name__ == \"__main__\":\n",
    "    list1 = [1,2,35,2,11,41]\n",
    "    list2 = [1,2,3,4,5,6,7]\n",
    "    obj = Solution(list1)\n",
    "    obj2 = Solution(list2)\n",
    "    print(obj.isSorted())\n",
    "    print(obj2.isSorted())"
   ]
  },
  {
   "cell_type": "code",
   "execution_count": null,
   "id": "7005a55f-9bdf-4f5e-981a-35e559675737",
   "metadata": {},
   "outputs": [],
   "source": []
  }
 ],
 "metadata": {
  "kernelspec": {
   "display_name": "Python 3 (ipykernel)",
   "language": "python",
   "name": "python3"
  },
  "language_info": {
   "codemirror_mode": {
    "name": "ipython",
    "version": 3
   },
   "file_extension": ".py",
   "mimetype": "text/x-python",
   "name": "python",
   "nbconvert_exporter": "python",
   "pygments_lexer": "ipython3",
   "version": "3.12.4"
  }
 },
 "nbformat": 4,
 "nbformat_minor": 5
}
