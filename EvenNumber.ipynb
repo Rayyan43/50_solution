{
 "cells": [
  {
   "cell_type": "code",
   "execution_count": 2,
   "id": "61e73657-4289-4a3e-baf4-0c7daace329f",
   "metadata": {},
   "outputs": [
    {
     "name": "stdin",
     "output_type": "stream",
     "text": [
      "Enter a number:  10\n"
     ]
    },
    {
     "name": "stdout",
     "output_type": "stream",
     "text": [
      "[2, 4, 6, 8, 10]\n"
     ]
    }
   ],
   "source": [
    "#Method 1\n",
    "def EvenNum(num):\n",
    "    EvenList = []\n",
    "    for i in range(1,num+1):\n",
    "        if i % 2 == 0:\n",
    "            EvenList.append(i)\n",
    "    return EvenList\n",
    "\n",
    "user_input = int(input(\"Enter a number: \"))\n",
    "res = EvenNum(user_input)\n",
    "print(res)"
   ]
  },
  {
   "cell_type": "code",
   "execution_count": 18,
   "id": "66df652c-0fc5-42bd-93a0-7e9f56801969",
   "metadata": {},
   "outputs": [
    {
     "name": "stdin",
     "output_type": "stream",
     "text": [
      "Enter a number:  7\n"
     ]
    },
    {
     "name": "stdout",
     "output_type": "stream",
     "text": [
      "2\n",
      "4\n",
      "6\n"
     ]
    }
   ],
   "source": [
    "#Method 2\n",
    "\n",
    "def EvenNumber(num):\n",
    "    for i in range(2,num,2):\n",
    "        print(i)\n",
    "\n",
    "user_input = int(input(\"Enter a number: \"))\n",
    "EvenNumber(user_input)"
   ]
  },
  {
   "cell_type": "code",
   "execution_count": null,
   "id": "c50edb56-bd76-4073-911e-911cf17f8df2",
   "metadata": {},
   "outputs": [],
   "source": []
  }
 ],
 "metadata": {
  "kernelspec": {
   "display_name": "Python 3 (ipykernel)",
   "language": "python",
   "name": "python3"
  },
  "language_info": {
   "codemirror_mode": {
    "name": "ipython",
    "version": 3
   },
   "file_extension": ".py",
   "mimetype": "text/x-python",
   "name": "python",
   "nbconvert_exporter": "python",
   "pygments_lexer": "ipython3",
   "version": "3.12.4"
  }
 },
 "nbformat": 4,
 "nbformat_minor": 5
}
