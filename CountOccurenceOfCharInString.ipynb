{
 "cells": [
  {
   "cell_type": "code",
   "execution_count": 7,
   "id": "bc386786-b651-455e-b382-511e9ba2db1a",
   "metadata": {},
   "outputs": [
    {
     "name": "stdin",
     "output_type": "stream",
     "text": [
      "Enter a string:  apple\n"
     ]
    },
    {
     "name": "stdout",
     "output_type": "stream",
     "text": [
      "{'a': 1, 'p': 2, 'l': 1, 'e': 1}\n"
     ]
    }
   ],
   "source": [
    "class Solution:\n",
    "    def __init__(self,string):\n",
    "        self.string = string\n",
    "    def CountChar(self):\n",
    "        Count_Char={} #Dict\n",
    "        for char in self.string:\n",
    "            if char in Count_Char:\n",
    "                Count_Char[char] += 1\n",
    "            else:\n",
    "                Count_Char[char] = 1\n",
    "        return Count_Char\n",
    "\n",
    "if __name__ == \"__main__\":\n",
    "    user_string = input(\"Enter a string: \")\n",
    "    obj = Solution(user_string)\n",
    "    res = obj.CountChar()\n",
    "    print(res)\n",
    "                "
   ]
  },
  {
   "cell_type": "code",
   "execution_count": null,
   "id": "10021b16-9b1f-4b9d-86ec-45548ba9e98a",
   "metadata": {},
   "outputs": [],
   "source": []
  }
 ],
 "metadata": {
  "kernelspec": {
   "display_name": "Python 3 (ipykernel)",
   "language": "python",
   "name": "python3"
  },
  "language_info": {
   "codemirror_mode": {
    "name": "ipython",
    "version": 3
   },
   "file_extension": ".py",
   "mimetype": "text/x-python",
   "name": "python",
   "nbconvert_exporter": "python",
   "pygments_lexer": "ipython3",
   "version": "3.12.4"
  }
 },
 "nbformat": 4,
 "nbformat_minor": 5
}
