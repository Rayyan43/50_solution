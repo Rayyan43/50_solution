{
 "cells": [
  {
   "cell_type": "code",
   "execution_count": 7,
   "id": "216f5c80-f9ae-4899-8540-a48f3f10d4a7",
   "metadata": {},
   "outputs": [
    {
     "name": "stdin",
     "output_type": "stream",
     "text": [
      "Enter the total number of elements in the list:  5\n",
      "Enter 1 element:  90\n",
      "Enter 2 element:  3\n",
      "Enter 3 element:  22\n",
      "Enter 4 element:  43\n",
      "Enter 5 element:  12\n"
     ]
    },
    {
     "name": "stdout",
     "output_type": "stream",
     "text": [
      "90\n"
     ]
    }
   ],
   "source": [
    "class MAX_NUMBER:\n",
    "    def __init__(self,list1):\n",
    "        self.list = list1\n",
    "\n",
    "    def MaxNumber(self):\n",
    "        max = self.list[0]\n",
    "        for i in self.list:\n",
    "            if i>max:\n",
    "                max = i\n",
    "        return max\n",
    "    \n",
    "    def List_input(self):\n",
    "        self.list = []\n",
    "        TotalElements = int(input(\"Enter the total number of elements in the list: \"))\n",
    "        for i in range(TotalElements):\n",
    "            list_input = input(f\"Enter {i+1} element: \")\n",
    "            self.list.append(list_input)\n",
    "\n",
    "if __name__ ==  \"__main__\":\n",
    "    obj_MaxNumber = MAX_NUMBER([])\n",
    "    obj_MaxNumber.List_input()\n",
    "    res = obj_MaxNumber.MaxNumber()\n",
    "    print(res)\n",
    "\n"
   ]
  },
  {
   "cell_type": "code",
   "execution_count": null,
   "id": "13cb8ed9-aa14-4c72-9d1a-5247bc201101",
   "metadata": {},
   "outputs": [],
   "source": []
  }
 ],
 "metadata": {
  "kernelspec": {
   "display_name": "Python 3 (ipykernel)",
   "language": "python",
   "name": "python3"
  },
  "language_info": {
   "codemirror_mode": {
    "name": "ipython",
    "version": 3
   },
   "file_extension": ".py",
   "mimetype": "text/x-python",
   "name": "python",
   "nbconvert_exporter": "python",
   "pygments_lexer": "ipython3",
   "version": "3.12.4"
  }
 },
 "nbformat": 4,
 "nbformat_minor": 5
}
