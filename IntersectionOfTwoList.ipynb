{
 "cells": [
  {
   "cell_type": "code",
   "execution_count": 1,
   "id": "218fcd8c-8148-4423-bc25-95d7529cb598",
   "metadata": {},
   "outputs": [
    {
     "name": "stdout",
     "output_type": "stream",
     "text": [
      "[4, 5]\n"
     ]
    }
   ],
   "source": [
    "class Intersection:\n",
    "    def __init__(self,list1,list2):\n",
    "        self.list1 = list1\n",
    "        self.list2 = list2\n",
    "    def intersection(self):\n",
    "        list3 = []\n",
    "        for i in list1:\n",
    "            for j in list2:\n",
    "                if i == j:\n",
    "                    list3.append(i)\n",
    "        return list3\n",
    "\n",
    "if __name__ == \"__main__\":\n",
    "    list1 = [1, 2, 3, 4, 5] \n",
    "    list2 = [4, 5, 6, 7, 8]\n",
    "    obj = Intersection(list1,list2)\n",
    "    res = obj.intersection()\n",
    "    print(res)\n",
    "                    "
   ]
  },
  {
   "cell_type": "code",
   "execution_count": null,
   "id": "3c752c15-9def-495e-9165-31718aaf723a",
   "metadata": {},
   "outputs": [],
   "source": []
  }
 ],
 "metadata": {
  "kernelspec": {
   "display_name": "Python 3 (ipykernel)",
   "language": "python",
   "name": "python3"
  },
  "language_info": {
   "codemirror_mode": {
    "name": "ipython",
    "version": 3
   },
   "file_extension": ".py",
   "mimetype": "text/x-python",
   "name": "python",
   "nbconvert_exporter": "python",
   "pygments_lexer": "ipython3",
   "version": "3.12.4"
  }
 },
 "nbformat": 4,
 "nbformat_minor": 5
}
