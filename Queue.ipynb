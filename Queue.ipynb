{
 "cells": [
  {
   "cell_type": "code",
   "execution_count": 27,
   "id": "55c40849-9545-454a-ad13-c36107cce545",
   "metadata": {},
   "outputs": [
    {
     "name": "stdout",
     "output_type": "stream",
     "text": [
      "Queue [10, 20, 30]\n",
      "10\n",
      "Queue [20, 30]\n",
      "20\n"
     ]
    }
   ],
   "source": [
    "class QUEUE:\n",
    "    def __init__(self):\n",
    "        self.list1 = []\n",
    "        \n",
    "    def isEmpty(self):\n",
    "        if len(self.list1) == 0:\n",
    "            print(\"Queue is Empty\")\n",
    "    def Enqueue(self,element):\n",
    "        self.list1.append(element)\n",
    "    def Dequeue(self):\n",
    "        if not self.isEmpty():\n",
    "            self.list1.pop(0)\n",
    "        else:\n",
    "            print(\"No elements in queue\")\n",
    "            return None\n",
    "            \n",
    "    def peek(self):\n",
    "        if not self.isEmpty():\n",
    "            print(self.list1[0])\n",
    "    def display(self):\n",
    "        print(\"Queue\", self.list1)\n",
    "\n",
    "        \n",
    "if __name__ == \"__main__\":\n",
    "    obj = QUEUE()\n",
    "    obj.Enqueue(10)\n",
    "    obj.Enqueue(20)\n",
    "    obj.Enqueue(30)\n",
    "\n",
    "    obj.display()\n",
    "    obj.peek()\n",
    "    \n",
    "    obj.Dequeue()\n",
    "    obj.display()\n",
    "    obj.peek()"
   ]
  },
  {
   "cell_type": "code",
   "execution_count": null,
   "id": "c12f1aa2-1130-4a2a-b9e2-273caffc76e7",
   "metadata": {},
   "outputs": [],
   "source": []
  }
 ],
 "metadata": {
  "kernelspec": {
   "display_name": "Python 3 (ipykernel)",
   "language": "python",
   "name": "python3"
  },
  "language_info": {
   "codemirror_mode": {
    "name": "ipython",
    "version": 3
   },
   "file_extension": ".py",
   "mimetype": "text/x-python",
   "name": "python",
   "nbconvert_exporter": "python",
   "pygments_lexer": "ipython3",
   "version": "3.12.4"
  }
 },
 "nbformat": 4,
 "nbformat_minor": 5
}
