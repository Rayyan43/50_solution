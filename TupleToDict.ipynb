{
 "cells": [
  {
   "cell_type": "code",
   "execution_count": 3,
   "id": "8c932826-1c91-4301-be05-7ad818edb5a0",
   "metadata": {},
   "outputs": [
    {
     "name": "stdout",
     "output_type": "stream",
     "text": [
      "{'a': 1, 'b': 2, 'c': 3, 'd': 4}\n"
     ]
    }
   ],
   "source": [
    "def tuples_to_dict(tuple_list):\n",
    "    dictionary = {}\n",
    "    for key, value in tuple_list:\n",
    "        dictionary[key] = value\n",
    "    return dictionary\n",
    "\n",
    "tuple_list = [('a', 1), ('b', 2), ('c', 3), ('d', 4)]\n",
    "res = tuples_to_dict(tuple_list)\n",
    "print(res)"
   ]
  },
  {
   "cell_type": "code",
   "execution_count": 5,
   "id": "881575fc-8c6a-4209-b32f-3f3bacc16e0c",
   "metadata": {},
   "outputs": [
    {
     "name": "stdout",
     "output_type": "stream",
     "text": [
      "{'a': 1, 'b': 2, 'c': 3, 'd': 4}\n"
     ]
    }
   ],
   "source": [
    "def DictConvertor(tuple_list):\n",
    "    return dict(tuple_list)\n",
    "res1 = DictConvertor(tuple_list)\n",
    "print(res1)"
   ]
  },
  {
   "cell_type": "code",
   "execution_count": null,
   "id": "cafbfde2-e897-42ba-87fa-c4f6362696c0",
   "metadata": {},
   "outputs": [],
   "source": []
  }
 ],
 "metadata": {
  "kernelspec": {
   "display_name": "Python 3 (ipykernel)",
   "language": "python",
   "name": "python3"
  },
  "language_info": {
   "codemirror_mode": {
    "name": "ipython",
    "version": 3
   },
   "file_extension": ".py",
   "mimetype": "text/x-python",
   "name": "python",
   "nbconvert_exporter": "python",
   "pygments_lexer": "ipython3",
   "version": "3.12.4"
  }
 },
 "nbformat": 4,
 "nbformat_minor": 5
}
