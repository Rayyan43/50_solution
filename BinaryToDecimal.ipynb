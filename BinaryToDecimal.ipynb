{
 "cells": [
  {
   "cell_type": "code",
   "execution_count": null,
   "id": "6ebcf86e-919f-4b3e-a5e9-f80556875f96",
   "metadata": {},
   "outputs": [],
   "source": [
    "def binary_to_decimal(binary_str):\n",
    "    decimal = 0\n",
    "    power = 0\n",
    "    for digit in reversed(binary_str):\n",
    "        decimal = decimal + int(digit) * (2 ** power)\n",
    "        power = power + 1\n",
    "    return decimal\n",
    "\n"
   ]
  }
 ],
 "metadata": {
  "kernelspec": {
   "display_name": "Python 3 (ipykernel)",
   "language": "python",
   "name": "python3"
  },
  "language_info": {
   "codemirror_mode": {
    "name": "ipython",
    "version": 3
   },
   "file_extension": ".py",
   "mimetype": "text/x-python",
   "name": "python",
   "nbconvert_exporter": "python",
   "pygments_lexer": "ipython3",
   "version": "3.12.4"
  }
 },
 "nbformat": 4,
 "nbformat_minor": 5
}
