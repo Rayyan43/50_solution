{
 "cells": [
  {
   "cell_type": "code",
   "execution_count": 9,
   "id": "15538db7-f1f5-44e1-b8f1-edc35f282b9d",
   "metadata": {},
   "outputs": [
    {
     "name": "stdin",
     "output_type": "stream",
     "text": [
      "Enter a string dafadfa\n"
     ]
    },
    {
     "name": "stdout",
     "output_type": "stream",
     "text": [
      "afdafad\n"
     ]
    }
   ],
   "source": [
    "user_input = input(\"Enter a string\")\n",
    "\n",
    "def revStr(str):\n",
    "    revStr= \"\"\n",
    "    for char in str:\n",
    "        revStr = char +revStr\n",
    "    return revStr\n",
    "\n",
    "result = revStr(user_input)\n",
    "print(result)"
   ]
  },
  {
   "cell_type": "code",
   "execution_count": null,
   "id": "cd26e6f1-c3af-4b58-b022-9486a867c292",
   "metadata": {},
   "outputs": [],
   "source": []
  }
 ],
 "metadata": {
  "kernelspec": {
   "display_name": "Python 3 (ipykernel)",
   "language": "python",
   "name": "python3"
  },
  "language_info": {
   "codemirror_mode": {
    "name": "ipython",
    "version": 3
   },
   "file_extension": ".py",
   "mimetype": "text/x-python",
   "name": "python",
   "nbconvert_exporter": "python",
   "pygments_lexer": "ipython3",
   "version": "3.12.4"
  }
 },
 "nbformat": 4,
 "nbformat_minor": 5
}
