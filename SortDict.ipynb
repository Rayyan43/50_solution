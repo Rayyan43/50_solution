{
 "cells": [
  {
   "cell_type": "code",
   "execution_count": 13,
   "id": "053153ea-0f9d-4678-a694-d845bb4e95b2",
   "metadata": {},
   "outputs": [
    {
     "name": "stdout",
     "output_type": "stream",
     "text": [
      "{'banana': 2, 'date': 3, 'apple': 5, 'cherry': 8}\n"
     ]
    }
   ],
   "source": [
    "class SortDict:\n",
    "    def __init__(self, dict):\n",
    "        self.dict = dict\n",
    "    def SortedFun(self):\n",
    "        sortedDict = dict(sorted(self.dict.items(), key=lambda item:item[1]))\n",
    "        return sortedDict\n",
    "\n",
    "if __name__ == \"__main__\":\n",
    "    dict1 = {'apple': 5, 'banana': 2, 'cherry': 8, 'date': 3}\n",
    "    obj = SortDict(dict1)\n",
    "    res = obj.SortedFun()\n",
    "    print(res)"
   ]
  },
  {
   "cell_type": "code",
   "execution_count": null,
   "id": "1cf2bfa3-6734-494e-8969-d2a321bda5bf",
   "metadata": {},
   "outputs": [],
   "source": []
  }
 ],
 "metadata": {
  "kernelspec": {
   "display_name": "Python 3 (ipykernel)",
   "language": "python",
   "name": "python3"
  },
  "language_info": {
   "codemirror_mode": {
    "name": "ipython",
    "version": 3
   },
   "file_extension": ".py",
   "mimetype": "text/x-python",
   "name": "python",
   "nbconvert_exporter": "python",
   "pygments_lexer": "ipython3",
   "version": "3.12.4"
  }
 },
 "nbformat": 4,
 "nbformat_minor": 5
}
