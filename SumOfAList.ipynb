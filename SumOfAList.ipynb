{
 "cells": [
  {
   "cell_type": "code",
   "execution_count": 1,
   "id": "15e3755b-cebc-40ce-8efe-1a546b20100d",
   "metadata": {},
   "outputs": [
    {
     "name": "stdout",
     "output_type": "stream",
     "text": [
      "21\n"
     ]
    }
   ],
   "source": [
    "#using recursion\n",
    "class SumOfAList:\n",
    "    sum = 0\n",
    "    def SumFun(self, list1, idx = 0):\n",
    "        if idx == len(list1):\n",
    "            return 0\n",
    "        else:\n",
    "            return list1[idx]+self.SumFun(list1, idx+1)\n",
    "\n",
    "\n",
    "if __name__==\"__main__\":\n",
    "    user_list = [1,2,3,4,5,6]\n",
    "    SumList = SumOfAList()\n",
    "    res = SumList.SumFun(user_list)\n",
    "    print(res)"
   ]
  },
  {
   "cell_type": "code",
   "execution_count": null,
   "id": "b5d294f7-11e6-466c-a21b-b06b8cefb237",
   "metadata": {},
   "outputs": [],
   "source": []
  }
 ],
 "metadata": {
  "kernelspec": {
   "display_name": "Python 3 (ipykernel)",
   "language": "python",
   "name": "python3"
  },
  "language_info": {
   "codemirror_mode": {
    "name": "ipython",
    "version": 3
   },
   "file_extension": ".py",
   "mimetype": "text/x-python",
   "name": "python",
   "nbconvert_exporter": "python",
   "pygments_lexer": "ipython3",
   "version": "3.12.4"
  }
 },
 "nbformat": 4,
 "nbformat_minor": 5
}
