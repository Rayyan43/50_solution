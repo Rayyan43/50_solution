{
 "cells": [
  {
   "cell_type": "code",
   "execution_count": null,
   "id": "d9e228f8-a006-4ce9-9519-0bf582405ad7",
   "metadata": {},
   "outputs": [],
   "source": [
    "import math\n",
    "class PowerOf2:\n",
    "    def __init__(self,num):\n",
    "        self.num = num\n",
    "    def isPower2(self):\n",
    "        if self.num < 0:\n",
    "            return False\n",
    "        while self.num>1:\n",
    "            if self.num % 2 != 0:\n",
    "                return False\n",
    "            self.num = self.num//2\n",
    "            \n",
    "if __name__ == \"__main__\":\n",
    "    user_num = int(input(\"Enter a number: \"))\n",
    "    obj = Powerof2(user_num)\n",
    "    res = obj.isPower2()\n",
    "    if  not res:\n",
    "        print(\"It is not a power of 2\")\n",
    "    else:\n",
    "        print(\"It is power of 2\")"
   ]
  },
  {
   "cell_type": "code",
   "execution_count": null,
   "id": "1f326940-4789-432e-96a8-857cf6363040",
   "metadata": {},
   "outputs": [],
   "source": []
  }
 ],
 "metadata": {
  "kernelspec": {
   "display_name": "Python 3 (ipykernel)",
   "language": "python",
   "name": "python3"
  },
  "language_info": {
   "codemirror_mode": {
    "name": "ipython",
    "version": 3
   },
   "file_extension": ".py",
   "mimetype": "text/x-python",
   "name": "python",
   "nbconvert_exporter": "python",
   "pygments_lexer": "ipython3",
   "version": "3.12.4"
  }
 },
 "nbformat": 4,
 "nbformat_minor": 5
}
