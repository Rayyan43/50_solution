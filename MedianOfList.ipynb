{
 "cells": [
  {
   "cell_type": "code",
   "execution_count": 5,
   "id": "06d85e8a-818a-4be0-a94d-33924356084f",
   "metadata": {},
   "outputs": [
    {
     "name": "stdout",
     "output_type": "stream",
     "text": [
      "5.0\n"
     ]
    }
   ],
   "source": [
    "class MEDIAN:\n",
    "    def __init__(self,list1):\n",
    "        self.list1 = list1\n",
    "    def median_list(self):\n",
    "        Total = sum(self.list1)\n",
    "        Length = len(self.list1)\n",
    "        med = Total/Length\n",
    "        return med\n",
    "\n",
    "if __name__ == \"__main__\":\n",
    "    list1 = [2, 4, 6, 8]\n",
    "    obj = MEDIAN(list1)\n",
    "    res = obj.median_list()\n",
    "    print(res)"
   ]
  },
  {
   "cell_type": "code",
   "execution_count": null,
   "id": "3da5b310-a11c-4f66-b551-e094f6b5ccf9",
   "metadata": {},
   "outputs": [],
   "source": []
  }
 ],
 "metadata": {
  "kernelspec": {
   "display_name": "Python 3 (ipykernel)",
   "language": "python",
   "name": "python3"
  },
  "language_info": {
   "codemirror_mode": {
    "name": "ipython",
    "version": 3
   },
   "file_extension": ".py",
   "mimetype": "text/x-python",
   "name": "python",
   "nbconvert_exporter": "python",
   "pygments_lexer": "ipython3",
   "version": "3.12.4"
  }
 },
 "nbformat": 4,
 "nbformat_minor": 5
}
