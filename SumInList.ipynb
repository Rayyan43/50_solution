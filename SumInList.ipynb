{
 "cells": [
  {
   "cell_type": "code",
   "execution_count": null,
   "id": "5fc21dfb-e690-4b6f-b7d6-b3efb5742c5a",
   "metadata": {},
   "outputs": [],
   "source": [
    "class FIND_PAIRS:\n",
    "    def __init__(self,target,lst):\n",
    "        self.target = target\n",
    "        self.lst = lst\n",
    "\n",
    "    def find_pairs(self):\n",
    "        pairs = []\n",
    "        for i in range(len(self.lst)):\n",
    "            for j in range(i+1,len(self.lst)):\n",
    "                if self.lst[i]+self.lst[j] == self.target:\n",
    "                    pairs.append((lst[i],lst[j]))\n",
    "        return pairs\n",
    "\n",
    "if __name__ == \"__main__\":\n",
    "    user_list = [1, 2, 3, 4, 5, 6]\n",
    "    target = 7\n",
    "    obj = FIND_PAIRSO()"
   ]
  }
 ],
 "metadata": {
  "kernelspec": {
   "display_name": "Python 3 (ipykernel)",
   "language": "python",
   "name": "python3"
  },
  "language_info": {
   "codemirror_mode": {
    "name": "ipython",
    "version": 3
   },
   "file_extension": ".py",
   "mimetype": "text/x-python",
   "name": "python",
   "nbconvert_exporter": "python",
   "pygments_lexer": "ipython3",
   "version": "3.12.4"
  }
 },
 "nbformat": 4,
 "nbformat_minor": 5
}
