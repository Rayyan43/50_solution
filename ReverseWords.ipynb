{
 "cells": [
  {
   "cell_type": "code",
   "execution_count": 27,
   "id": "82adc47d-4cea-459b-8385-9184baae1633",
   "metadata": {},
   "outputs": [
    {
     "name": "stdin",
     "output_type": "stream",
     "text": [
      "Enter a sentence using space:  My name is Rayyan\n"
     ]
    },
    {
     "name": "stdout",
     "output_type": "stream",
     "text": [
      "Rayyan is name My \n"
     ]
    }
   ],
   "source": [
    "#Python is fun\n",
    "#fun is Python\n",
    "\n",
    "def RevWords(string):\n",
    "    RevList = []\n",
    "    splitStr = string.split()\n",
    "    for char in reversed(splitStr):\n",
    "        RevList.append(char)\n",
    "   # print(RevList)\n",
    "    res = \"\"\n",
    "    for s in RevList:\n",
    "        res = res + s +' '\n",
    "    return res\n",
    "\n",
    "user_input = input(\"Enter a sentence using space: \")\n",
    "res = RevWords(user_input)\n",
    "print(res)"
   ]
  },
  {
   "cell_type": "code",
   "execution_count": null,
   "id": "7d0ffe89-b39d-4b4a-8843-59007d3c1f95",
   "metadata": {},
   "outputs": [],
   "source": []
  }
 ],
 "metadata": {
  "kernelspec": {
   "display_name": "Python 3 (ipykernel)",
   "language": "python",
   "name": "python3"
  },
  "language_info": {
   "codemirror_mode": {
    "name": "ipython",
    "version": 3
   },
   "file_extension": ".py",
   "mimetype": "text/x-python",
   "name": "python",
   "nbconvert_exporter": "python",
   "pygments_lexer": "ipython3",
   "version": "3.12.4"
  }
 },
 "nbformat": 4,
 "nbformat_minor": 5
}
