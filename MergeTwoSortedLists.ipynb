{
 "cells": [
  {
   "cell_type": "code",
   "execution_count": 5,
   "id": "fa60a85f-b2fb-4911-995d-ddd164fe67b8",
   "metadata": {},
   "outputs": [
    {
     "name": "stdout",
     "output_type": "stream",
     "text": [
      "[10, 15, 20, 25, 30, 35]\n"
     ]
    }
   ],
   "source": [
    "# Approach 1\n",
    "class Merger:\n",
    "    def __init__(self, list1, list2):\n",
    "        self.list1 = list1\n",
    "        self.list2 = list2\n",
    "        \n",
    "    def Merge(self):\n",
    "        list3 = []\n",
    "        for i in list1:\n",
    "            list3.append(i)\n",
    "        for i in list2:\n",
    "            list3.append(i)\n",
    "        return sorted(list3)\n",
    "\n",
    "if __name__ == \"__main__\":\n",
    "    list1 = [10, 20, 30]\n",
    "    list2 = [15, 25, 35]\n",
    "    obj = Merger(list1,list2)\n",
    "    print(obj.Merge())\n",
    "\n",
    "\n",
    "# Input: list1 = [10, 20, 30], list2 = [15, 25, 35]\n",
    "# Expected Output: [10, 15, 20, 25, 30, 35]\n"
   ]
  }
 ],
 "metadata": {
  "kernelspec": {
   "display_name": "Python 3 (ipykernel)",
   "language": "python",
   "name": "python3"
  },
  "language_info": {
   "codemirror_mode": {
    "name": "ipython",
    "version": 3
   },
   "file_extension": ".py",
   "mimetype": "text/x-python",
   "name": "python",
   "nbconvert_exporter": "python",
   "pygments_lexer": "ipython3",
   "version": "3.12.4"
  }
 },
 "nbformat": 4,
 "nbformat_minor": 5
}
