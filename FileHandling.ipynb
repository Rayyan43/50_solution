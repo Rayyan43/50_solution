{
 "cells": [
  {
   "cell_type": "code",
   "execution_count": 23,
   "id": "79a77a94-8f74-4604-8970-11a131aff9b5",
   "metadata": {},
   "outputs": [
    {
     "name": "stdout",
     "output_type": "stream",
     "text": [
      "Hello world   \n",
      "Hello again\n",
      "Goodbye world\n",
      "\n",
      "{'Hello': 2, 'world': 2, 'again': 1, 'Goodbye': 1}\n"
     ]
    }
   ],
   "source": [
    "def CountChar(string):\n",
    "    split_string = string.split()\n",
    "    Count_Word={} #Dict\n",
    "    for word in split_string:\n",
    "        if word in Count_Word:\n",
    "            Count_Word[word] += 1\n",
    "        else:\n",
    "            Count_Word[word] = 1\n",
    "    return Count_Word\n",
    "\n",
    "\n",
    "with open('File_Content.txt','r') as file:\n",
    "    content = file.read()\n",
    "    print(content)\n",
    "\n",
    "    res = CountChar(content)\n",
    "    print(res)\n",
    "    \n",
    "\n",
    "    "
   ]
  },
  {
   "cell_type": "code",
   "execution_count": null,
   "id": "02a828ff-abcb-4bd0-b66e-aefe460ac578",
   "metadata": {},
   "outputs": [],
   "source": []
  }
 ],
 "metadata": {
  "kernelspec": {
   "display_name": "Python 3 (ipykernel)",
   "language": "python",
   "name": "python3"
  },
  "language_info": {
   "codemirror_mode": {
    "name": "ipython",
    "version": 3
   },
   "file_extension": ".py",
   "mimetype": "text/x-python",
   "name": "python",
   "nbconvert_exporter": "python",
   "pygments_lexer": "ipython3",
   "version": "3.12.4"
  }
 },
 "nbformat": 4,
 "nbformat_minor": 5
}
