{
 "cells": [
  {
   "cell_type": "code",
   "execution_count": 7,
   "id": "1df119f2-d7b0-4170-97e2-44c709d467ad",
   "metadata": {},
   "outputs": [
    {
     "name": "stdin",
     "output_type": "stream",
     "text": [
      "Enter a year:  1900\n"
     ]
    },
    {
     "name": "stdout",
     "output_type": "stream",
     "text": [
      "1900 is a leap year\n"
     ]
    }
   ],
   "source": [
    "def isLeapYear(year):\n",
    "    if year % 400 == 0:\n",
    "        return f\"{year} is a leap year\"\n",
    "    elif year % 100 == 0:\n",
    "        return f\"{year} is not a leap year\"\n",
    "    elif year % 4 == 0:\n",
    "        return f\"{year} is a leap year\"\n",
    "    else:\n",
    "        return f\"{year} is no\"\n",
    "\n",
    "\n",
    "user_input = int(input(\"Enter a year: \"))\n",
    "\n",
    "res = isLeapYear(user_input)\n",
    "print(res)"
   ]
  },
  {
   "cell_type": "code",
   "execution_count": null,
   "id": "a8d72fb8-579c-4d81-a0d2-01e01c9892c1",
   "metadata": {},
   "outputs": [],
   "source": []
  }
 ],
 "metadata": {
  "kernelspec": {
   "display_name": "Python 3 (ipykernel)",
   "language": "python",
   "name": "python3"
  },
  "language_info": {
   "codemirror_mode": {
    "name": "ipython",
    "version": 3
   },
   "file_extension": ".py",
   "mimetype": "text/x-python",
   "name": "python",
   "nbconvert_exporter": "python",
   "pygments_lexer": "ipython3",
   "version": "3.12.4"
  }
 },
 "nbformat": 4,
 "nbformat_minor": 5
}
