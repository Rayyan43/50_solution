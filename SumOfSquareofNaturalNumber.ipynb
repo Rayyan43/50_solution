{
 "cells": [
  {
   "cell_type": "code",
   "execution_count": 6,
   "id": "4066d9ec-ff1c-487f-a025-0069efab25c3",
   "metadata": {},
   "outputs": [
    {
     "name": "stdin",
     "output_type": "stream",
     "text": [
      "Enter a number:  3\n"
     ]
    },
    {
     "name": "stdout",
     "output_type": "stream",
     "text": [
      "14\n"
     ]
    }
   ],
   "source": [
    "class Sum:\n",
    "    def __init__(self,num):\n",
    "        self.num = num\n",
    "    def SumOfSquare(self):\n",
    "        sum = 0\n",
    "        for i in range(self.num+1):\n",
    "            sum += i*i\n",
    "        return sum\n",
    "\n",
    "if __name__ == \"__main__\":\n",
    "    user_number = int(input(\"Enter a number: \"))\n",
    "    obj = Sum(user_number)\n",
    "    print(obj.SumOfSquare())"
   ]
  },
  {
   "cell_type": "code",
   "execution_count": null,
   "id": "50eecdee-2ece-4cc2-baef-f317d4d882e1",
   "metadata": {},
   "outputs": [],
   "source": []
  }
 ],
 "metadata": {
  "kernelspec": {
   "display_name": "Python 3 (ipykernel)",
   "language": "python",
   "name": "python3"
  },
  "language_info": {
   "codemirror_mode": {
    "name": "ipython",
    "version": 3
   },
   "file_extension": ".py",
   "mimetype": "text/x-python",
   "name": "python",
   "nbconvert_exporter": "python",
   "pygments_lexer": "ipython3",
   "version": "3.12.4"
  }
 },
 "nbformat": 4,
 "nbformat_minor": 5
}
